{
 "cells": [
  {
   "cell_type": "markdown",
   "metadata": {},
   "source": [
    "## Aaron's presentation"
   ]
  },
  {
   "cell_type": "markdown",
   "metadata": {},
   "source": [
    "# Using hidden markov model\n",
    "\n"
   ]
  },
  {
   "cell_type": "code",
   "execution_count": 4,
   "metadata": {},
   "outputs": [],
   "source": [
    "import networkx as nx\n",
    "import numpy as np\n",
    "import math\n",
    "import sys\n",
    "from math import tanh\n",
    "sys.path.append('pysrc')\n",
    "\n"
   ]
  },
  {
   "cell_type": "code",
   "execution_count": 5,
   "metadata": {
    "collapsed": true
   },
   "outputs": [],
   "source": [
    "\n",
    "DG = nx.DiGraph()\n",
    "DG.add_nodes_from(['X1','X2','H0','H1','H2','O1'])\n"
   ]
  },
  {
   "cell_type": "markdown",
   "metadata": {},
   "source": [
    "\n",
    "#set the activation functions"
   ]
  },
  {
   "cell_type": "code",
   "execution_count": 6,
   "metadata": {
    "collapsed": true
   },
   "outputs": [],
   "source": [
    "DG.node['H0']['af']=1.0\n",
    "for node in ['H1','H2','O1']:\n",
    "    DG.node[node]['af']=tanh"
   ]
  },
  {
   "cell_type": "markdown",
   "metadata": {},
   "source": [
    "#set the derivatives of the activation functions for all nodes except the output, this is done below\n"
   ]
  },
  {
   "cell_type": "code",
   "execution_count": 7,
   "metadata": {
    "collapsed": true
   },
   "outputs": [],
   "source": [
    "def zero(x):\n",
    "    return 0\n",
    "for node in ['X1','X2','H0']: #the inputs and bias terms have zero derivatives\n",
    "    DG.node[node]['daf'] = zero\n",
    "def dtanh(x):\n",
    "    return 1.0 - tanh(x) * tanh(x)\n",
    "for node in ['H1','H2']:\n",
    "    DG.node[node]['daf']=dtanh"
   ]
  },
  {
   "cell_type": "code",
   "execution_count": 8,
   "metadata": {
    "collapsed": true
   },
   "outputs": [],
   "source": [
    "for source in ['X1','X2']:\n",
    "    for target in ['H1','H2']:\n",
    "        DG.add_weighted_edges_from([(source,target,1.0)])\n",
    "for source in ['H0','H1','H2']:\n",
    "    DG.add_weighted_edges_from([(source, 'O1', 1.0)])\n",
    "    "
   ]
  },
  {
   "cell_type": "code",
   "execution_count": 9,
   "metadata": {
    "collapsed": true
   },
   "outputs": [],
   "source": [
    "DG.node['X1']['af']=0\n",
    "DG.node['X2']['af']=1"
   ]
  },
  {
   "cell_type": "code",
   "execution_count": 10,
   "metadata": {},
   "outputs": [
    {
     "ename": "SyntaxError",
     "evalue": "invalid syntax (<ipython-input-10-eed390e602d9>, line 14)",
     "output_type": "error",
     "traceback": [
      "\u001b[0;36m  File \u001b[0;32m\"<ipython-input-10-eed390e602d9>\"\u001b[0;36m, line \u001b[0;32m14\u001b[0m\n\u001b[0;31m    print \"node {0} has output {1} and error {2}\".format(node, DG.node[node]['o'], DG.node[node]['e'])\u001b[0m\n\u001b[0m                                                ^\u001b[0m\n\u001b[0;31mSyntaxError\u001b[0m\u001b[0;31m:\u001b[0m invalid syntax\n"
     ]
    }
   ],
   "source": [
    "def dout(x, t):\n",
    "    if x<0:\n",
    "        xx = 0\n",
    "    else:\n",
    "        xx = 1\n",
    "    return xx - t\n",
    "DG.node['O1']['daf']=partial(dout, t=1)\n",
    "\n",
    "nn.forward_prop(DG)\n",
    "\n",
    "nn.error_back_prop(DG)\n",
    "\n",
    "for node in ['X1','X2','H0','H1','H2','O1']:\n",
    "    print \"node {0} has output {1} and error {2}\".format(node, DG.node[node]['o'], DG.node[node]['e'])\n"
   ]
  },
  {
   "cell_type": "code",
   "execution_count": null,
   "metadata": {
    "collapsed": true
   },
   "outputs": [],
   "source": []
  }
 ],
 "metadata": {
  "kernelspec": {
   "display_name": "Python 3",
   "language": "python",
   "name": "python3"
  },
  "language_info": {
   "codemirror_mode": {
    "name": "ipython",
    "version": 3
   },
   "file_extension": ".py",
   "mimetype": "text/x-python",
   "name": "python",
   "nbconvert_exporter": "python",
   "pygments_lexer": "ipython3",
   "version": "3.6.2"
  }
 },
 "nbformat": 4,
 "nbformat_minor": 2
}
